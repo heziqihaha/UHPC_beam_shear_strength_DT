{
 "cells": [
  {
   "cell_type": "markdown",
   "id": "8e47c1a2",
   "metadata": {},
   "source": [
    "# 导入库\n",
    "## ·pands读取excel文件\n",
    "## ·sklearn机器学习库导入决策树库以及评估参数计算库\n",
    "## ·graphviz、matplotlib、seaborn画图工具"
   ]
  },
  {
   "cell_type": "code",
   "execution_count": 1,
   "id": "13c242da",
   "metadata": {},
   "outputs": [],
   "source": [
    "import numpy as np\n",
    "import pandas as pd\n",
    "from sklearn.model_selection import train_test_split\n",
    "from sklearn.tree import DecisionTreeRegressor\n",
    "from sklearn.metrics import mean_squared_error, r2_score\n",
    "from sklearn.preprocessing import StandardScaler\n",
    "from sklearn.tree import export_graphviz\n",
    "import graphviz\n",
    "import matplotlib.pyplot as plt\n",
    "import seaborn as sns"
   ]
  },
  {
   "cell_type": "markdown",
   "id": "ebc183a5",
   "metadata": {},
   "source": [
    "# 数据处理\n",
    "## ·数据导入\n",
    "## ·划分特征值和目标值\n",
    "## ·数据归一化"
   ]
  },
  {
   "cell_type": "code",
   "execution_count": 3,
   "id": "af9bcabe",
   "metadata": {},
   "outputs": [
    {
     "name": "stdout",
     "output_type": "stream",
     "text": [
      "       h      b  bf1   tf1  bf2  tf2       Ac      ρl    fsy   ρp   σp    s  \\\n",
      "0    220  120.0    0   0.0    0  0.0  26400.0  0.0400  550.0  0.0  0.0  0.0   \n",
      "1    220  120.0    0   0.0    0  0.0  26400.0  0.0400  550.0  0.0  0.0  0.0   \n",
      "2    220  120.0    0   0.0    0  0.0  26400.0  0.0400  550.0  0.0  0.0  0.0   \n",
      "3    220  120.0    0   0.0    0  0.0  26400.0  0.0400  550.0  0.0  0.0  0.0   \n",
      "4    220  120.0    0   0.0    0  0.0  26400.0  0.0400  550.0  0.0  0.0  0.0   \n",
      "..   ...    ...  ...   ...  ...  ...      ...     ...    ...  ...  ...  ...   \n",
      "527  350   80.0  250  60.0    0  0.0  38200.0  0.0297  668.0  0.0  0.0  0.0   \n",
      "528  350   80.0  250  60.0    0  0.0  38200.0  0.0297  668.0  0.0  0.0  0.0   \n",
      "529  350   80.0  250  60.0    0  0.0  38200.0  0.0297  668.0  0.0  0.0  0.0   \n",
      "530  350   80.0  250  60.0    0  0.0  38200.0  0.0297  668.0  0.0  0.0  0.0   \n",
      "531  350   80.0  250  60.0    0  0.0  38200.0  0.0297  668.0  0.0  0.0  0.0   \n",
      "\n",
      "     ρsv  fsv     fc   ρf    lf   df        λf    m  \n",
      "0    0.0  0.0  103.0  0.0   0.0  0.0  0.000000  2.5  \n",
      "1    0.0  0.0  122.0  2.0  19.0  0.2  1.653571  2.5  \n",
      "2    0.0  0.0  103.0  0.0   0.0  0.0  0.000000  3.0  \n",
      "3    0.0  0.0  122.0  2.0  19.0  0.2  1.653571  3.0  \n",
      "4    0.0  0.0  122.0  2.0  19.0  0.2  1.653571  3.0  \n",
      "..   ...  ...    ...  ...   ...  ...       ...  ...  \n",
      "527  0.0  0.0  130.0  1.0  13.0  0.2  0.650000  2.0  \n",
      "528  0.0  0.0  134.0  2.0  13.0  0.2  1.300000  2.0  \n",
      "529  0.0  0.0  138.0  3.0  13.0  0.2  1.950000  2.0  \n",
      "530  0.0  0.0  134.0  2.0  13.0  0.2  1.300000  1.0  \n",
      "531  0.0  0.0  134.0  2.0  13.0  0.2  1.300000  3.0  \n",
      "\n",
      "[532 rows x 20 columns]\n",
      "0       107.0\n",
      "1       184.0\n",
      "2        42.5\n",
      "3       177.0\n",
      "4       177.5\n",
      "        ...  \n",
      "527     403.3\n",
      "528     580.0\n",
      "529     729.7\n",
      "530    1403.0\n",
      "531     363.3\n",
      "Name: Vu, Length: 532, dtype: float64\n"
     ]
    }
   ],
   "source": [
    "file_path = \"D:\\\\pycharm\\\\Folder\\\\UHPC_beam_shear_strength_ConvNN\\\\Shear strength_UHPC beams.xlsx\"\n",
    "df = pd.read_excel(file_path)\n",
    "\n",
    "X = df.iloc[:, :20]\n",
    "y = df.iloc[:, -1]\n",
    "print(X)\n",
    "print(y)\n",
    "\n",
    "scaler = StandardScaler()\n",
    "X_scaled = scaler.fit_transform(X)"
   ]
  },
  {
   "cell_type": "markdown",
   "id": "329788d4",
   "metadata": {},
   "source": [
    "# 划分训练集和测试集"
   ]
  },
  {
   "cell_type": "code",
   "execution_count": 4,
   "id": "87d3b984",
   "metadata": {},
   "outputs": [],
   "source": [
    "X_train, X_test, y_train, y_test = train_test_split(X, y, test_size=0.2, random_state=True)"
   ]
  },
  {
   "cell_type": "markdown",
   "id": "114abe84",
   "metadata": {},
   "source": [
    "# 制定决策树结构以及相应细节\n",
    "## ·定义决策树名称：decision_tree_model\n",
    "## ·回归任务采用：DecisionTreeRegressor（），（）中定义决策树细节\n",
    "## ·ax_depth，策树深度（层数）\n",
    "## ·samples_split，部节点再划分所需最小样本数\n",
    "## ·min_samples_leaf, 叶节点最少样本数\n",
    "## ·ccp_alpha，成本复杂度参数，可以根据交叉验证的结果调整（值越大，剪枝越猛，决策树越简单）\n",
    "### (后期根据测试集的评估数据来调整参数，优化模型)\n"
   ]
  },
  {
   "cell_type": "code",
   "execution_count": 5,
   "id": "1929ec88",
   "metadata": {},
   "outputs": [],
   "source": [
    "decision_tree_model = DecisionTreeRegressor(\n",
    "    random_state=True,\n",
    "    max_depth=10,  \n",
    "    min_samples_split=10,  \n",
    "    min_samples_leaf=10,  \n",
    "    ccp_alpha=0.01 \n",
    ")"
   ]
  },
  {
   "cell_type": "markdown",
   "id": "4a0c637f",
   "metadata": {},
   "source": [
    "# 训练决策树，计算测试集的预测结果"
   ]
  },
  {
   "cell_type": "code",
   "execution_count": 6,
   "id": "6f523bdf",
   "metadata": {},
   "outputs": [],
   "source": [
    "decision_tree_model.fit(X_train, y_train)\n",
    "y_predict = decision_tree_model.predict(X_test)"
   ]
  },
  {
   "cell_type": "markdown",
   "id": "05698ca9",
   "metadata": {},
   "source": [
    "# 计算评估模型的参数"
   ]
  },
  {
   "cell_type": "code",
   "execution_count": 7,
   "id": "6caf3860",
   "metadata": {},
   "outputs": [
    {
     "name": "stdout",
     "output_type": "stream",
     "text": [
      "Mean Squared Error: 15180.624682484104\n",
      "R^2 Score: 0.8883890330389916\n",
      "Mean Absolute Percentage Error (MAPE): 23.672536507577423%\n"
     ]
    }
   ],
   "source": [
    "def mean_absolute_percentage_error(y_true, y_pred):\n",
    "    y_true, y_pred = np.array(y_true), np.array(y_predict)\n",
    "    return np.mean(np.abs((y_true - y_pred) / y_true)) * 100\n",
    "\n",
    "\n",
    "mape = mean_absolute_percentage_error(y_test, y_predict)\n",
    "mse = mean_squared_error(y_test, y_predict)\n",
    "r2 = r2_score(y_test, y_predict)\n",
    "print(f'Mean Squared Error: {mse}')\n",
    "print(f'R^2 Score: {r2}')\n",
    "print(f'Mean Absolute Percentage Error (MAPE): {mape}%')"
   ]
  },
  {
   "cell_type": "markdown",
   "id": "e52f3484",
   "metadata": {},
   "source": [
    "# 决策树结构可视化，调用graphviz包，通过PDF查看决策树结构"
   ]
  },
  {
   "cell_type": "code",
   "execution_count": 8,
   "id": "c2efab1c",
   "metadata": {},
   "outputs": [
    {
     "data": {
      "text/plain": [
       "'Source.gv.pdf'"
      ]
     },
     "execution_count": 8,
     "metadata": {},
     "output_type": "execute_result"
    }
   ],
   "source": [
    "dot_data = export_graphviz(decision_tree_model,\n",
    "                           out_file=None,\n",
    "                           feature_names=df.columns[:20],\n",
    "                           filled=True,\n",
    "                           rounded=True,\n",
    "                           special_characters=True)\n",
    "\n",
    "graph = graphviz.Source(dot_data)\n",
    "# graph.render(\"decision_tree\") 保存决策树结构PDF文件\n",
    "graph.view() "
   ]
  },
  {
   "cell_type": "markdown",
   "id": "00007045",
   "metadata": {},
   "source": [
    "# 查看测试集的实际值与预测值分布散点图"
   ]
  },
  {
   "cell_type": "code",
   "execution_count": 9,
   "id": "8ee38035",
   "metadata": {},
   "outputs": [
    {
     "data": {
      "image/png": "[encoded data removed]",
      "text/plain": [
       "<Figure size 1000x600 with 1 Axes>"
      ]
     },
     "metadata": {},
     "output_type": "display_data"
    }
   ],
   "source": [
    "plt.figure(figsize=(10, 6))\n",
    "sns.scatterplot(x=y_test, y=y_predict)\n",
    "plt.plot([y_test.min(), y_test.max()], [y_test.min(), y_test.max()], 'k--', lw=2)  # y=x 线\n",
    "plt.xlabel('Actual Values')\n",
    "plt.ylabel('Predicted Values')\n",
    "plt.title('Actual vs Predicted Values')\n",
    "output_path = \"Decision_Tree_prediction\"\n",
    "plt.savefig(output_path, dpi=300, bbox_inches='tight')\n",
    "plt.show()"
   ]
  }
 ],
 "metadata": {
  "kernelspec": {
   "display_name": "Python [conda env:pytorch] *",
   "language": "python",
   "name": "conda-env-pytorch-py"
  },
  "language_info": {
   "codemirror_mode": {
    "name": "ipython",
    "version": 3
   },
   "file_extension": ".py",
   "mimetype": "text/x-python",
   "name": "python",
   "nbconvert_exporter": "python",
   "pygments_lexer": "ipython3",
   "version": "3.11.10"
  }
 },
 "nbformat": 4,
 "nbformat_minor": 5
}
